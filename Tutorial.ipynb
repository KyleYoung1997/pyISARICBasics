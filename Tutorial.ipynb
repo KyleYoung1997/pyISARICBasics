{
 "cells": [
  {
   "cell_type": "markdown",
   "id": "899fa589",
   "metadata": {},
   "source": [
    "# Introduction\n",
    "\n",
    "\n",
    "Contributors: Kyle G Young, Sally Shrapnel,...\n",
    "\n",
    "The PyIsaricBasics package has been designed to provide a simple introduction to facilitate exploration and analysis of the ISARIC dataset. We suggest first running the tutorial on the September dataset to match the tutorial outputs. Once you are comfortable using the methods the tutorial will work with any iteration of the dataset. \n",
    "\n",
    "The dataset is comprised of individual Domains:\n",
    "\n",
    "SA = Clinical and Adverse Events \n",
    "\n",
    "MB = Microbiology Specimen \n",
    "\n",
    "LB = Laboratory Results \n",
    "\n",
    "HO = Healthcare Encounters \n",
    "\n",
    "DM = Demographics\n",
    "\n",
    "IN = Treatments and Interventions \n",
    "\n",
    "RS = Disease Response and Clinical Classification \n",
    "\n",
    "SV = Subject Visits \n",
    "\n",
    "RP = Reproductive System Findings \n",
    "\n",
    "PO = Pregnancy Outcomes \n",
    "\n",
    "DS = Disposition \n",
    "\n",
    "ER = Environmental Risk \n",
    "\n",
    "IE = Inclusion/Exclusion Criteria \n",
    "\n",
    "TI = \n",
    "\n",
    "VS = Vital Signs \n",
    "\n",
    "SC = Subject Characteristics \n",
    "\n",
    "\n",
    "This package contains a Class method that loads an individual Domain and several functions to explore and analyse the data within that domain. Objects are stored as Pandas Dataframes and functions use the open source Pandas library (https://pandas.pydata.org) to facilitate data analysis, visualisation and manipulation.\n",
    "\n",
    "The package also provide functionality to load the dataframes into SQLite for easy browsing using, for example, DB Browser (https://sqlitebrowser.org)"
   ]
  },
  {
   "cell_type": "markdown",
   "id": "dc6c0814",
   "metadata": {},
   "source": [
    "## Getting set up\n",
    "### 1. Set file paths to data\n",
    "Set DATA_DIRECTORY to the directory where your raw ISARIC .csv's are contained, and use DATABASE_FILE to name the sqlite database. "
   ]
  },
  {
   "cell_type": "code",
   "execution_count": null,
   "id": "bf843d1b",
   "metadata": {},
   "outputs": [],
   "source": [
    "DATA_DIRECTORY = \"tests/Tutorial_data\"\n",
    "DATABASE_FILE = \"test_db.sqlite\""
   ]
  },
  {
   "cell_type": "markdown",
   "id": "8c00528c",
   "metadata": {},
   "source": [
    "### 2. Import the Domain Class and key functions from the pyISARICBasics package. "
   ]
  },
  {
   "cell_type": "code",
   "execution_count": null,
   "id": "1853e23d",
   "metadata": {},
   "outputs": [],
   "source": [
    "# PIP install\n",
    "from pyISARICBasics.domain import Domain\n",
    "from pyISARICBasics.functions import csv_to_sqlite, df_to_sqlite"
   ]
  },
  {
   "cell_type": "markdown",
   "id": "0eac6417",
   "metadata": {},
   "source": [
    "### 3. Convert CSV files to SQLite database\n",
    "\n",
    "The first step in our data exploration / analysis is to convert all of our raw .csv's to a sqlite database. This is useful for browsing with the application DB Browser (https://sqlitebrowser.org).\n",
    "\n",
    "Unfortunately, reading and writing full sqlite tables into memory as a dataframe is not particularly efficient in Python 3. However, the following function also creates auxiliary .pickle files that contain a serialised version of pandas DataFrame objects - loading these files is much more efficient. Generating the inital database can take some time (approximately 20mins on a laptop), we suggest you let this run and then have a read through the pyIsaricBasics documentation: (https://kyleyoung1997.github.io/pyISARICBasics/index.html)"
   ]
  },
  {
   "cell_type": "code",
   "execution_count": null,
   "id": "c009063f",
   "metadata": {},
   "outputs": [],
   "source": [
    "csv_to_sqlite(DATA_DIRECTORY, DATABASE_FILE)"
   ]
  },
  {
   "cell_type": "markdown",
   "id": "50be4571",
   "metadata": {},
   "source": [
    "## Exploring an example Domain\n",
    "\n",
    "For this example, we will use the SA domain. This domain contains (insert details from data dictionary).\n",
    "\n",
    "The domain class contains three arguments: Domain (domain, data_directory, num_rows). \n",
    "\n",
    "1. domain: (string): specifying the name of the domain we wish to load e.g. \"SA\"\n",
    "2. data_directory: (string): A path to the directory containing the raw ISARIC .csv's (the previous steps should set this up) \n",
    "3. num_rows: (int): An optional argument that can be used to specify how many rows of data we wish to load. If we wish to load all the data we can leave this blank or specify num_rows = None\n",
    "\n",
    "Some of the ISARIC domains contain a large number of rows. If you wish to perform a quick exploration of the dataset or test individual functions, it can be useful to only load a subset of rows. This is achieved using the third argument, e.g. num_rows = 20. \n"
   ]
  },
  {
   "cell_type": "code",
   "execution_count": null,
   "id": "8de54622",
   "metadata": {},
   "outputs": [],
   "source": [
    "SA = Domain(\"SA\", DATA_DIRECTORY, num_rows = None)"
   ]
  },
  {
   "cell_type": "markdown",
   "id": "d11ef914",
   "metadata": {},
   "source": [
    "### 1. List the columns of the SA domain"
   ]
  },
  {
   "cell_type": "markdown",
   "id": "6bd94078",
   "metadata": {},
   "source": [
    "The Domain.columns( ) function prints a list of the columns in the current domain.\n",
    "\n",
    "\n",
    "All the columns in UPPERCASE are unaltered from the original SA.csv file. \n",
    "\n",
    "We also have one extra column 'status', which converts the outcomes from ISARIC / STDM format into a simple \"Y\", \"N\" or \"U\". (Yes, no or unknown). \n",
    "\n",
    "We will use the convention of lower case for columns like 'status' that have been derived or created here.\n",
    "\n",
    "Some important columns from the original ISARIC data are:\n",
    "    Put the list here\n",
    "    \n",
    "    SATERM, INTRT, LBTEST, HOTERM - Contains the verbatim non-standardised wording of an event \n",
    "    xxOCCUR - Signifies whether an event occured or not\n",
    "    xxPREPSP - a value of 'y' in this column indicates that the event was prespecified on the CRF, while 'n' or missing indicates a spontaneous (or free-text) entry\n",
    "    xxSTDY - Gives the day of an event (relative to admission day) \n",
    "    \n",
    "The 'status' column indicates whether an event occurred based on the combination of values in xxPRESP and xxOCCUR as follows: \n",
    "\n",
    "| xxPRESP | xxOCCUR | status |\n",
    "|---------|---------|--------|\n",
    "| NA      | NA      | Y      |\n",
    "| NA      | Y       | U      |\n",
    "| N       | Y       | N      |\n",
    "| U       | Y       | U      |\n",
    "| Y       | NA      | Y      |\n",
    "| Y       | Y       | Y      |\n",
    "\n",
    "\n",
    "Source code and documentation for this function can be viewed at (https://kyleyoung1997.github.io/pyISARICBasics/domain.html#pyISARICBasics.domain.Domain.process_occur) "
   ]
  },
  {
   "cell_type": "code",
   "execution_count": null,
   "id": "e1151b6b",
   "metadata": {},
   "outputs": [],
   "source": [
    "SA.columns()"
   ]
  },
  {
   "cell_type": "markdown",
   "id": "98b062f3",
   "metadata": {},
   "source": [
    "### 2. Explore missingness in each column:\n",
    "\n",
    "When columns are empty, or have very high missingness, it can be useful to remove them from the dataframe.\n",
    "As individual patients will usually be associated with multiple rows it can also be useful to identify the number of unique patients."
   ]
  },
  {
   "cell_type": "code",
   "execution_count": null,
   "id": "566a1934",
   "metadata": {},
   "outputs": [],
   "source": [
    "SA.table_missingness()"
   ]
  },
  {
   "cell_type": "markdown",
   "id": "0c8c5890",
   "metadata": {},
   "source": [
    "### 3. Exclude columns with high missingness\n",
    "Exclude these columns from our dataframe has the benefit of freeing up memory and making computations more time efficient "
   ]
  },
  {
   "cell_type": "code",
   "execution_count": null,
   "id": "d4d10733",
   "metadata": {},
   "outputs": [],
   "source": [
    "SA.exclude_columns(['SASCAT', \"SASTAT\", \"SAREASND\", \"SALOC\", \"SATPT\", \"SATPTREF\", \"SASTRF\", \"SAEVINTX\", \"SARPOC\"])"
   ]
  },
  {
   "cell_type": "markdown",
   "id": "c23a5007",
   "metadata": {},
   "source": [
    "### 4. Provide a list of the variables contained within each column.\n",
    "\n",
    "We can use the Domain.column_events method to identify the variables contained within each column. "
   ]
  },
  {
   "cell_type": "code",
   "execution_count": null,
   "id": "7d1366d6",
   "metadata": {},
   "outputs": [],
   "source": [
    "SA.column_events(\"SACAT\")"
   ]
  },
  {
   "cell_type": "markdown",
   "id": "c4a6ad49",
   "metadata": {},
   "source": [
    "We can see SACAT (SA Category) only has 9 distinct varibles."
   ]
  },
  {
   "cell_type": "code",
   "execution_count": null,
   "id": "52a16959",
   "metadata": {},
   "outputs": [],
   "source": [
    "SA.column_events(\"SAMODIFY\")"
   ]
  },
  {
   "cell_type": "markdown",
   "id": "b766ff2e",
   "metadata": {},
   "source": [
    "We can see SAMODIFY (SA modified term) has many distinct variables."
   ]
  },
  {
   "cell_type": "markdown",
   "id": "3083e296",
   "metadata": {},
   "source": [
    "### 5. Indentifying variable missingness.\n",
    "We can now identify the missingness for a specific variable. For example, if we are interested in 'TREMOR' from the SAMODIFY column:\n",
    "\n"
   ]
  },
  {
   "cell_type": "code",
   "execution_count": null,
   "id": "f116c3ac",
   "metadata": {},
   "outputs": [],
   "source": [
    "SA.table_missingness(\"SAMODIFY\", \"TREMOR\")"
   ]
  },
  {
   "cell_type": "markdown",
   "id": "ef7f879b",
   "metadata": {},
   "source": [
    "This output displays the missingness for the 12272 rows where SAMODIFY contains TREMOR. Of the 677,926 unique patients in the SA domain, there are 11974 that have an entry for TREMOR. Of these 12272 rows containing TREMOR, 12272 do not have an associated day (SASTDY) on which the event occurred."
   ]
  },
  {
   "cell_type": "markdown",
   "id": "77917888",
   "metadata": {},
   "source": [
    "### 6. Visualising the new DataFrame that we have filtered by SAMODIFY and TREMOR: \n",
    "\n",
    "The Domain.select_variable_from_column( ) method returns a Pandas DataFrame, so any function contained in the Pandas library can be used to further filter this dataframe. "
   ]
  },
  {
   "cell_type": "code",
   "execution_count": null,
   "id": "c79bc73e",
   "metadata": {},
   "outputs": [],
   "source": [
    "SA.select_variables_from_column(\"SAMODIFY\", \"TREMOR\")"
   ]
  },
  {
   "cell_type": "markdown",
   "id": "424c33cb",
   "metadata": {},
   "source": [
    "### 7. Create a list of relevant columns \n",
    "We can also create a list of specific columns that we're interested in: "
   ]
  },
  {
   "cell_type": "code",
   "execution_count": null,
   "id": "f450010b",
   "metadata": {},
   "outputs": [],
   "source": [
    "cols_of_interest = [\"USUBJID\", \"SASTDY\", \"SAMODIFY\", \"SAPRESP\", \"SAOCCUR\", 'status']\n",
    "SA.select_variables_from_column(\"SAMODIFY\", \"TREMOR\")[cols_of_interest]"
   ]
  },
  {
   "cell_type": "markdown",
   "id": "bbe9ddf1",
   "metadata": {},
   "source": [
    "### 8. Print row counts for each column.\n"
   ]
  },
  {
   "cell_type": "code",
   "execution_count": null,
   "id": "3e3d249d",
   "metadata": {},
   "outputs": [],
   "source": [
    "SA.column_summary(\"SAMODIFY\")"
   ]
  },
  {
   "cell_type": "markdown",
   "id": "4bb04bf1",
   "metadata": {},
   "source": [
    "### 9. Print row counts + status for each column\n",
    "\n",
    "We can print a summary of the variables in each column as well as the 'status' variable. "
   ]
  },
  {
   "cell_type": "code",
   "execution_count": null,
   "id": "4bd31adf",
   "metadata": {},
   "outputs": [],
   "source": [
    "SA.column_summary(\"SAMODIFY\", status = True)"
   ]
  },
  {
   "cell_type": "markdown",
   "id": "5df72a2b",
   "metadata": {},
   "source": [
    "We can also specify a subset of variables:"
   ]
  },
  {
   "cell_type": "code",
   "execution_count": null,
   "id": "d7e260ba",
   "metadata": {},
   "outputs": [],
   "source": [
    "SA.column_summary(\"SAMODIFY\",  \"ASTHMA\", \"STROKE\", \"TUBERCULOSIS\", status = True,)"
   ]
  },
  {
   "cell_type": "markdown",
   "id": "8967ceae",
   "metadata": {},
   "source": [
    "### 10. Saving the modified dataframe as a sqlite table: \n",
    "\n",
    "If we want to browse (or access later) we can save our new filtered dataframe into a sqlite table \n",
    "(note this takes some timefor large domains such as SA and IN)."
   ]
  },
  {
   "cell_type": "code",
   "execution_count": null,
   "id": "244fa113",
   "metadata": {},
   "outputs": [],
   "source": [
    "SA.save_to_sqlite(\"SA_tutorial_modified\", DATA_DIRECTORY, DATABASE_FILE )"
   ]
  },
  {
   "cell_type": "markdown",
   "id": "c8bf0812",
   "metadata": {},
   "source": [
    "This creates a new table in our existing sqlite database as well as a .pickle file for quicker read and write in Python"
   ]
  },
  {
   "cell_type": "markdown",
   "id": "5d0e8be8",
   "metadata": {},
   "source": [
    "# Free Text Searches\n",
    "For most variables in the ISARIC dataset, the xxMODIFY column contains a standardised event name. However, xxTERM contains some spontaneously recorded events that are not recorded in the xxMODIFY. \n",
    "\n",
    "For example, we can search the SA domain for terms that might be relevant to Kidney Stones (for which there is no standardised variable in the 'SAMODIFY' column). We use the domain.free_text_search() method. We can enter any search terms as strings separated by commas. This method then searches for these terms in the relevant column and returns a dataframe with the result. \n",
    "\n",
    "Note that the Domain.free_text_search( ) method searches to see if our search terms are substrings of any raw terms. For example searching \"Kidney\" would return rows containing \"Acute Kidney Injury\" as well as \"Kidney Stones\". "
   ]
  },
  {
   "cell_type": "code",
   "execution_count": null,
   "id": "284d8c72",
   "metadata": {},
   "outputs": [],
   "source": [
    "stones_frame = SA.free_text_search(\"kidney stones\", \"nephrolithiasis\", \"renal calculi\")"
   ]
  },
  {
   "cell_type": "code",
   "execution_count": null,
   "id": "de56dbdb",
   "metadata": {},
   "outputs": [],
   "source": [
    "stones_frame"
   ]
  },
  {
   "cell_type": "markdown",
   "id": "0fb93661",
   "metadata": {},
   "source": [
    "We found 271 free text entries that are relevant for Kidney stones. Note that the value of SAPRESP is NaN (missing) as is the value of SAOCCUR. This indicates that the entry was made spontaenously (i.e. not indicated on the CRF)."
   ]
  },
  {
   "cell_type": "markdown",
   "id": "bd82044f",
   "metadata": {},
   "source": [
    "# Vaccination Status Example\n",
    "\n",
    "The following example uses the functionality we have used thus far to retrieve the vaccination status of patients. "
   ]
  },
  {
   "cell_type": "markdown",
   "id": "48497899",
   "metadata": {},
   "source": [
    "We will load the IN domain as this contains information about vaccinations. Note we first delete the SA domain from memory to save some space. "
   ]
  },
  {
   "cell_type": "code",
   "execution_count": null,
   "id": "19f169dc",
   "metadata": {},
   "outputs": [],
   "source": [
    "del(SA)"
   ]
  },
  {
   "cell_type": "code",
   "execution_count": null,
   "id": "33398df6",
   "metadata": {},
   "outputs": [],
   "source": [
    "IN = Domain(\"IN\", DATA_DIRECTORY)"
   ]
  },
  {
   "cell_type": "markdown",
   "id": "a09a4187",
   "metadata": {},
   "source": [
    "We then inspect the columns:"
   ]
  },
  {
   "cell_type": "code",
   "execution_count": null,
   "id": "cef7ca78",
   "metadata": {},
   "outputs": [],
   "source": [
    "IN.columns()"
   ]
  },
  {
   "cell_type": "markdown",
   "id": "8d016d19",
   "metadata": {},
   "source": [
    "Most of those columns are not relevant to vaccination status so we're going to include only relevant columns"
   ]
  },
  {
   "cell_type": "code",
   "execution_count": null,
   "id": "6833e30f",
   "metadata": {},
   "outputs": [],
   "source": [
    "relevant_cols = ['USUBJID', 'INTRT', 'INMODIFY', 'INPRESP', 'INOCCUR', 'INREFID' ,'INSTDY', 'status']\n",
    "IN.include_columns(relevant_cols)"
   ]
  },
  {
   "cell_type": "markdown",
   "id": "1e3af117",
   "metadata": {},
   "source": [
    "We can now look at \"INMODIFY\" to ascertain what variables are relevant to COVID-19 Vaccination"
   ]
  },
  {
   "cell_type": "code",
   "execution_count": null,
   "id": "dfcde639",
   "metadata": {},
   "outputs": [],
   "source": [
    "IN.column_summary(\"INMODIFY\", status = True)"
   ]
  },
  {
   "cell_type": "markdown",
   "id": "9dd77997",
   "metadata": {},
   "source": [
    "We can then take a closer look at only those variables related to COVID-19 Vaccination: "
   ]
  },
  {
   "cell_type": "code",
   "execution_count": null,
   "id": "22d2510a",
   "metadata": {},
   "outputs": [],
   "source": [
    "IN.column_summary(\"INMODIFY\", 'COVID-19 VACCINATION', 'COVID-19 VACCINATION', \n",
    "                                            'COVID-19 VACCINE PFIZER-BIONTECH',\n",
    "                                            'COVID-19 VACCINE JANSSENS (JOHNSON AND JOHNSON)',\n",
    "                                            'COVID-19 VACCINE TYPE UNKNOWN',\n",
    "                                            'COVID-19 VACCINE ASTRAZENECA/UNIVERSITY OF OXFORD',\n",
    "                                            'COVID-19 VACCINE CANSINBIO', \n",
    "                                            'COVID-19 VACCINE SPUTNIK V',\n",
    "                                            'COVID-19 VACCINE SINOPHARM', \n",
    "                                            'COVID-19 VACCINE MODERNA',\n",
    "                                            'COVID-19 VACCINE SINOVAC', \n",
    "                                            'COVID-19 VACCINE COVAXIN',\n",
    "                                            status = True)"
   ]
  },
  {
   "cell_type": "markdown",
   "id": "6b171b58",
   "metadata": {},
   "source": [
    "We can also use our list of INMODIFY variables to return a dataframe with only entries relevant to vaccination: "
   ]
  },
  {
   "cell_type": "code",
   "execution_count": null,
   "id": "bbe40777",
   "metadata": {},
   "outputs": [],
   "source": [
    "covid_vacc = IN.select_variables_from_column(\"INMODIFY\", 'COVID-19 VACCINATION', \n",
    "                                            'COVID-19 VACCINE PFIZER-BIONTECH',\n",
    "                                            'COVID-19 VACCINE JANSSENS (JOHNSON AND JOHNSON)',\n",
    "                                            'COVID-19 VACCINE TYPE UNKNOWN',\n",
    "                                            'COVID-19 VACCINE ASTRAZENECA/UNIVERSITY OF OXFORD',\n",
    "                                            'COVID-19 VACCINE CANSINBIO', \n",
    "                                            'COVID-19 VACCINE SPUTNIK V',\n",
    "                                            'COVID-19 VACCINE SINOPHARM', \n",
    "                                            'COVID-19 VACCINE MODERNA',\n",
    "                                            'COVID-19 VACCINE SINOVAC', \n",
    "                                            'COVID-19 VACCINE COVAXIN')"
   ]
  },
  {
   "cell_type": "markdown",
   "id": "7a6414ca",
   "metadata": {},
   "source": [
    "We can then take a look at our filtered dataframe: "
   ]
  },
  {
   "cell_type": "code",
   "execution_count": null,
   "id": "5b308deb",
   "metadata": {},
   "outputs": [],
   "source": [
    "covid_vacc"
   ]
  },
  {
   "cell_type": "code",
   "execution_count": null,
   "id": "866a8837",
   "metadata": {},
   "outputs": [],
   "source": [
    "covid_vacc.INTRT.unique()"
   ]
  },
  {
   "cell_type": "code",
   "execution_count": null,
   "id": "ae727cc0",
   "metadata": {},
   "outputs": [],
   "source": [
    "covid_vacc.INMODIFY.unique()"
   ]
  },
  {
   "cell_type": "code",
   "execution_count": null,
   "id": "f8ea90d7",
   "metadata": {},
   "outputs": [],
   "source": [
    "covid_vacc.INREFID.unique()"
   ]
  },
  {
   "cell_type": "code",
   "execution_count": null,
   "id": "2452db23",
   "metadata": {},
   "outputs": [],
   "source": [
    "covid_vacc.status.value_counts()"
   ]
  },
  {
   "cell_type": "markdown",
   "id": "c459ac32",
   "metadata": {},
   "source": [
    "Great! So now what do we do if we want to save this DataFrame to access it later?\n",
    "\n",
    "We can use the function df_to_sqlite() which saves a DataFrame into the sqlite database created earlier and as a .pickle which we can load quickly into Python."
   ]
  },
  {
   "cell_type": "code",
   "execution_count": null,
   "id": "739011a9",
   "metadata": {},
   "outputs": [],
   "source": [
    "df_to_sqlite(covid_vacc, \"vacc_status\", DATA_DIRECTORY, DATABASE_FILE)"
   ]
  },
  {
   "cell_type": "markdown",
   "id": "78789349",
   "metadata": {},
   "source": [
    "As you can see the function returns True, meaning the write has been succesful. "
   ]
  }
 ],
 "metadata": {
  "kernelspec": {
   "display_name": "Python 3 (ipykernel)",
   "language": "python",
   "name": "python3"
  },
  "language_info": {
   "codemirror_mode": {
    "name": "ipython",
    "version": 3
   },
   "file_extension": ".py",
   "mimetype": "text/x-python",
   "name": "python",
   "nbconvert_exporter": "python",
   "pygments_lexer": "ipython3",
   "version": "3.8.12"
  }
 },
 "nbformat": 4,
 "nbformat_minor": 5
}
